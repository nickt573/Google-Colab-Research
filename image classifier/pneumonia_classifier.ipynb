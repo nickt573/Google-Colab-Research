{
  "cells": [
    {
      "cell_type": "markdown",
      "metadata": {
        "id": "view-in-github",
        "colab_type": "text"
      },
      "source": [
        "<a href=\"https://colab.research.google.com/github/nickt573/Google-Colab-Research/blob/main/image%20classifier/pneumonia_classifier.ipynb\" target=\"_parent\"><img src=\"https://colab.research.google.com/assets/colab-badge.svg\" alt=\"Open In Colab\"/></a>"
      ]
    },
    {
      "cell_type": "markdown",
      "source": [
        "# Requirements"
      ],
      "metadata": {
        "id": "YvPW5cuxE29d"
      }
    },
    {
      "cell_type": "code",
      "source": [
        "!pip install matplotlib torch torchvision kagglehub"
      ],
      "metadata": {
        "id": "6GPvc8b8EQCG"
      },
      "execution_count": null,
      "outputs": []
    },
    {
      "cell_type": "markdown",
      "metadata": {
        "id": "FLDTRZpczb5U"
      },
      "source": [
        "# Managing Data"
      ]
    },
    {
      "cell_type": "code",
      "execution_count": null,
      "metadata": {
        "id": "SdocSP3Mz3Pr"
      },
      "outputs": [],
      "source": [
        "import os\n",
        "import kagglehub\n",
        "import torchvision.transforms as transforms\n",
        "import torchvision.datasets as datasets\n",
        "from torch.utils.data import DataLoader\n",
        "\n",
        "# Download latest version\n",
        "path = kagglehub.dataset_download(\"paultimothymooney/chest-xray-pneumonia\")\n",
        "\n",
        "train_transform = transforms.Compose([\n",
        "    transforms.Resize((224, 224)),\n",
        "    transforms.RandomHorizontalFlip(),           # Safe for X-rays\n",
        "    transforms.RandomRotation(10),\n",
        "    transforms.RandomAffine(degrees=10, translate=(0.05, 0.05)),\n",
        "    transforms.Grayscale(num_output_channels=1),\n",
        "    transforms.ToTensor(),\n",
        "    transforms.Normalize(mean=[0.5], std=[0.5])\n",
        "])\n",
        "val_transform = transforms.Compose([\n",
        "    transforms.Resize((224, 224)),\n",
        "    transforms.Grayscale(num_output_channels=1),\n",
        "    transforms.ToTensor(),\n",
        "    transforms.Normalize(mean=[0.5], std=[0.5])\n",
        "])\n",
        "\n",
        "train_dataset = datasets.ImageFolder(os.path.join(path, \"chest_xray/train\"), train_transform)\n",
        "val_dataset = datasets.ImageFolder(os.path.join(path, \"chest_xray/test\"), val_transform)\n",
        "\n",
        "train_loader = DataLoader(train_dataset, batch_size=128, shuffle=True)\n",
        "val_loader = DataLoader(val_dataset, batch_size=64, shuffle=True)"
      ]
    },
    {
      "cell_type": "markdown",
      "metadata": {
        "id": "NQWLk3Zz6OEo"
      },
      "source": [
        "# Building model"
      ]
    },
    {
      "cell_type": "markdown",
      "source": [
        "Reset all parameters"
      ],
      "metadata": {
        "id": "m2jVeCUmZun1"
      }
    },
    {
      "cell_type": "code",
      "execution_count": null,
      "metadata": {
        "id": "VaiI4iRw5AWe"
      },
      "outputs": [],
      "source": [
        "import torch\n",
        "from pneumonia import Model\n",
        "device = torch.device(\"cuda\" if torch.cuda.is_available() else \"cpu\")\n",
        "\n",
        "history = {}\n",
        "history[\"train_acc\"] = []\n",
        "history[\"val_acc\"] = []\n",
        "model = Model().to(device)\n",
        "print(device)"
      ]
    },
    {
      "cell_type": "markdown",
      "metadata": {
        "id": "x5S7aM9v81em"
      },
      "source": [
        "# Running model"
      ]
    },
    {
      "cell_type": "code",
      "execution_count": null,
      "metadata": {
        "id": "2DAjDcNc82iD"
      },
      "outputs": [],
      "source": [
        "epoch = 10\n",
        "for i in range(epoch):\n",
        "    print(f\"Epoch {i + 1}/{epoch}\")\n",
        "    acc = model.train_model(train_loader)\n",
        "    history[\"train_acc\"].append(acc)\n",
        "    acc = model.test_model(val_loader, False)\n",
        "    history[\"val_acc\"].append(acc)"
      ]
    },
    {
      "cell_type": "markdown",
      "metadata": {
        "id": "XvGI4gGv8Dex"
      },
      "source": [
        "# Visualizing model"
      ]
    },
    {
      "cell_type": "code",
      "execution_count": null,
      "metadata": {
        "id": "D0oGLd3X6PK8"
      },
      "outputs": [],
      "source": [
        "import matplotlib.pyplot as plt\n",
        "\n",
        "epochs = range(1, len(history[\"train_acc\"]) + 1)\n",
        "\n",
        "plt.figure(figsize=(8, 5))\n",
        "plt.plot(epochs, history[\"train_acc\"], label='Train Accuracy', marker='o')\n",
        "plt.plot(epochs, history[\"val_acc\"], label='Validation Accuracy', marker='s')\n",
        "\n",
        "plt.xlabel('Epoch')\n",
        "plt.ylabel('Accuracy')\n",
        "plt.title('Train vs Validation Accuracy')\n",
        "plt.legend()\n",
        "plt.grid(True)\n",
        "plt.tight_layout()\n",
        "plt.show()\n"
      ]
    },
    {
      "cell_type": "code",
      "source": [
        "_ = model.test_model(val_loader, True)"
      ],
      "metadata": {
        "id": "-YO0flu3c7Ct"
      },
      "execution_count": null,
      "outputs": []
    }
  ],
  "metadata": {
    "accelerator": "GPU",
    "colab": {
      "gpuType": "T4",
      "provenance": [],
      "authorship_tag": "ABX9TyNn/u/QUlfb2GxcuVQpJSQ5",
      "include_colab_link": true
    },
    "kernelspec": {
      "display_name": "Python 3",
      "name": "python3"
    },
    "language_info": {
      "name": "python"
    }
  },
  "nbformat": 4,
  "nbformat_minor": 0
}